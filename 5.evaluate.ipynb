{
 "cells": [
  {
   "cell_type": "markdown",
   "metadata": {},
   "source": [
    "# LLM Evaluation의 중요성\n",
    "\n",
    "서비스를 안정적으로 운영하기 위해서\n",
    "사용자 정확한 정보를 받을 수 있는지\n",
    "\n",
    "\"할루시네이션\" -> \"환각\"\n",
    "LLM이 잘못된 답변을 생성하는 경우\n",
    "\n",
    "Lang Smith -> Lang chain에서 만든 Evaluation 툴\n",
    "\n",
    "# Dataset -> 도메인 전문가가 작성한 \"정답지\"\n",
    "특정 질문이 들어오면 -> 이런 답변을 해야한다\n",
    "1+1 = 2\n",
    "\n",
    "# 78점\n",
    "1. ChatGPT 작성 -> 도메인 전문가가 아님 -> 정답지가 틀렸을 수도 있음\n",
    "2. embedding 문제,  embedding효율이 떨어져서 -> retrieval 된 문서가 잘못되서"
   ]
  }
 ],
 "metadata": {
  "language_info": {
   "name": "python"
  }
 },
 "nbformat": 4,
 "nbformat_minor": 2
}
