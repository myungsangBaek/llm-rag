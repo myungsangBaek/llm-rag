{
 "cells": [
  {
   "cell_type": "markdown",
   "metadata": {},
   "source": [
    "1. 문서의 내용을 읽는다\n",
    "2. 문서를 쪼갠다\n",
    "    - 토큰 수 초과로 답변을 생성하지 못할 수 있음\n",
    "    - 문서가 길면 (인풋이 길면) 답변 생성이 오래걸림\n",
    "3. 임베딩 -> 백터 데이터베이스에 저장\n",
    "4. 질문이 있을 때, 백터 데이터베이스에서 유사도 검사\n",
    "5. 유사도 검색으로 가져온 문서를 LLM에 질문과 같이 전달"
   ]
  },
  {
   "cell_type": "code",
   "execution_count": 2,
   "metadata": {},
   "outputs": [
    {
     "name": "stdout",
     "output_type": "stream",
     "text": [
      "\u001b[33m  DEPRECATION: docx2txt is being installed using the legacy 'setup.py install' method, because it does not have a 'pyproject.toml' and the 'wheel' package is not installed. pip 23.1 will enforce this behaviour change. A possible replacement is to enable the '--use-pep517' option. Discussion can be found at https://github.com/pypa/pip/issues/8559\u001b[0m\u001b[33m\n",
      "\u001b[0m\n",
      "\u001b[1m[\u001b[0m\u001b[34;49mnotice\u001b[0m\u001b[1;39;49m]\u001b[0m\u001b[39;49m A new release of pip is available: \u001b[0m\u001b[31;49m23.0.1\u001b[0m\u001b[39;49m -> \u001b[0m\u001b[32;49m24.2\u001b[0m\n",
      "\u001b[1m[\u001b[0m\u001b[34;49mnotice\u001b[0m\u001b[1;39;49m]\u001b[0m\u001b[39;49m To update, run: \u001b[0m\u001b[32;49mpip install --upgrade pip\u001b[0m\n",
      "Note: you may need to restart the kernel to use updated packages.\n"
     ]
    }
   ],
   "source": [
    "%pip install --upgrade --quiet docx2txt langchain-community"
   ]
  },
  {
   "cell_type": "code",
   "execution_count": 23,
   "metadata": {},
   "outputs": [],
   "source": [
    "from langchain_community.document_loaders import Docx2txtLoader\n",
    "from langchain_text_splitters import RecursiveCharacterTextSplitter\n",
    "\n",
    "text_splitter = RecursiveCharacterTextSplitter(\n",
    "    # LLM은 토큰 수를 계산, 청크사이즈는 문서를 쪼갤 때 하나의 청크가 가질 수 있는 토큰 수\n",
    "    # 오버랩은 겹치는 토큰 수, 오버랩을 주면서 유사도를 높일 수 있음\n",
    "    chunk_size=1500,\n",
    "    chunk_overlap=200,\n",
    ")\n",
    "\n",
    "loader = Docx2txtLoader('./tax.docx')\n",
    "document_list = loader.load_and_split(text_splitter=text_splitter)"
   ]
  },
  {
   "cell_type": "code",
   "execution_count": 24,
   "metadata": {},
   "outputs": [
    {
     "data": {
      "text/plain": [
       "218"
      ]
     },
     "execution_count": 24,
     "metadata": {},
     "output_type": "execute_result"
    }
   ],
   "source": [
    "len(document_list)"
   ]
  },
  {
   "cell_type": "code",
   "execution_count": 45,
   "metadata": {},
   "outputs": [],
   "source": [
    "from dotenv import load_dotenv\n",
    "from langchain_openai import OpenAIEmbeddings\n",
    "\n",
    "load_dotenv()\n",
    "\n",
    "embedding = OpenAIEmbeddings(model='text-embedding-3-large')"
   ]
  },
  {
   "cell_type": "code",
   "execution_count": 46,
   "metadata": {},
   "outputs": [],
   "source": [
    "from langchain_chroma import Chroma\n",
    "\n",
    "# 임베딩한 내용을 벡터 데이터베이스에 저장\n",
    "# 인메모리 DB이기에 창을 닫으면 날라간다. 옵션에 persist_directory를 주면 파일로 저장할 수 있다.\n",
    "# database = Chroma.from_documents(\n",
    "#     documents=document_list,\n",
    "#     embedding=embedding,\n",
    "#     persist_directory = './chroma_db',\n",
    "#     collection_name = 'chroma_tax'\n",
    "# )\n",
    "database = Chroma(embedding_function=embedding, collection_name = 'chroma_tax', persist_directory = './chroma_db' )"
   ]
  },
  {
   "cell_type": "code",
   "execution_count": 47,
   "metadata": {},
   "outputs": [],
   "source": [
    "query = '연봉 5천만원인 직장인의 소득세는 얼마인가요?'\n",
    "# retrieved_docs = database.similarity_search(query, k=3)"
   ]
  },
  {
   "cell_type": "code",
   "execution_count": 48,
   "metadata": {},
   "outputs": [],
   "source": [
    "from langchain_openai import ChatOpenAI\n",
    "\n",
    "llm = ChatOpenAI(model = 'gpt-4o')"
   ]
  },
  {
   "cell_type": "code",
   "execution_count": 29,
   "metadata": {},
   "outputs": [],
   "source": [
    "# prompt = f\"\"\"[Identity]\n",
    "# - 당신은 최고의 한국 소득세 전문가 입니다\n",
    "# - [Context]를 참고해서 사용자의 질문에 답변해주세요\n",
    "\n",
    "# [Context]\n",
    "# {retrieved_docs}\n",
    "\n",
    "# Question : {query}\n",
    "# \"\"\""
   ]
  },
  {
   "cell_type": "code",
   "execution_count": 30,
   "metadata": {},
   "outputs": [],
   "source": [
    "# ai_message = llm.invoke(prompt)"
   ]
  },
  {
   "cell_type": "code",
   "execution_count": 20,
   "metadata": {},
   "outputs": [
    {
     "data": {
      "text/plain": [
       "AIMessage(content='연봉 5천만원인 직장인의 소득세를 계산하기 위해서는 다음 단계를 거쳐야 합니다.\\n\\n1. **총급여 계산**:\\n   - 연봉 5천만원은 총급여액입니다.\\n\\n2. **근로소득공제**:\\n   - 근로소득공제는 총급여에 따라 계산됩니다.\\n   - 총급여액이 5천만원일 경우, 근로소득공제는 다음과 같이 계산됩니다:\\n     - 5천만원 이하의 경우: 550만원 + (총급여액 - 5천만원) × 15%\\n     - 5천만원을 초과하지 않으므로 550만원이 그대로 적용됩니다.\\n\\n3. **과세표준 계산**:\\n   - 과세표준 = 총급여액 - 근로소득공제 - 기본공제 (1인당 150만원) - 기타 인적공제 및 추가 공제\\n   - 기본공제는 본인 150만원이므로, 추가 공제는 없다고 가정하면 과세표준은:\\n     - 5천만원 - 550만원 - 150만원 = 4,300만원\\n\\n4. **소득세율 적용**:\\n   - 과세표준 4,300만원에 대해 기본세율을 적용합니다.\\n   - 소득세율은 다음과 같습니다:\\n     - 1,200만원 이하: 6%\\n     - 1,200만원 초과 4,600만원 이하: 15%\\n     - 4,600만원 초과 8,800만원 이하: 24%\\n     - 8,800만원 초과 1억5천만원 이하: 35%\\n     - 1억5천만원 초과 3억원 이하: 38%\\n     - 3억원 초과 5억원 이하: 40%\\n     - 5억원 초과: 42%\\n\\n   - 과세표준 4,300만원에 대한 소득세 계산은 다음과 같습니다:\\n     - 1,200만원 × 6% = 72만원\\n     - (4,300만원 - 1,200만원) × 15% = 3,100만원 × 15% = 465만원\\n     - 따라서 총 소득세는 72만원 + 465만원 = 537만원\\n\\n5. **세액공제**:\\n   - 근로소득 세액공제 등을 적용하여 최종 소득세를 계산합니다.\\n   - 근로소득 세액공제는 다음과 같습니다:\\n     - 총급여 3,300만원 이하: 산출세액 × 55% (최대 74만원)\\n     - 총급여 3,300만원 초과 7천만원 이하: 산출세액 × 30% + 27만5천원 (최대 66만원)\\n     - 5천만원인 경우: 537만원 × 30% + 27만5천원 = 161만원 + 27만5천원 = 188.5만원\\n\\n   - 따라서 최종 소득세는 537만원 - 188.5만원 = 348.5만원\\n\\n결론적으로, 연봉 5천만원인 직장인의 연간 소득세는 대략 348.5만원으로 예상됩니다. 이는 구체적인 공제 항목이나 상황에 따라 다를 수 있으므로, 정확한 금액은 소득세 신고 시 확인하는 것이 좋습니다.', additional_kwargs={'refusal': None}, response_metadata={'token_usage': {'completion_tokens': 746, 'prompt_tokens': 2913, 'total_tokens': 3659}, 'model_name': 'gpt-4o-2024-05-13', 'system_fingerprint': 'fp_25624ae3a5', 'finish_reason': 'stop', 'logprobs': None}, id='run-0c73f218-252f-442d-8558-13ea3970d2d1-0', usage_metadata={'input_tokens': 2913, 'output_tokens': 746, 'total_tokens': 3659})"
      ]
     },
     "execution_count": 20,
     "metadata": {},
     "output_type": "execute_result"
    }
   ],
   "source": [
    "# ai_message"
   ]
  },
  {
   "cell_type": "code",
   "execution_count": 54,
   "metadata": {},
   "outputs": [
    {
     "name": "stderr",
     "output_type": "stream",
     "text": [
      "/Users/baegmyeongsang/.pyenv/versions/3.10.14/envs/llm-app/lib/python3.10/site-packages/langchain_core/_api/beta_decorator.py:87: LangChainBetaWarning: The function `loads` is in beta. It is actively being worked on, so the API may change.\n",
      "  warn_beta(\n"
     ]
    }
   ],
   "source": [
    "from langchain import hub\n",
    "\n",
    "import os\n",
    "from dotenv import load_dotenv\n",
    "\n",
    "load_dotenv()\n",
    "api_key = os.getenv('LANGCHAIN_API_KEY')\n",
    "prompt = hub.pull('rlm/rag-prompt', api_key=api_key)"
   ]
  },
  {
   "cell_type": "code",
   "execution_count": 57,
   "metadata": {},
   "outputs": [],
   "source": [
    "from langchain.chains import RetrievalQA\n",
    "\n",
    "qa_chain = RetrievalQA.from_chain_type(\n",
    "    llm,\n",
    "    retriever = database.as_retriever(),\n",
    "    chain_type_kwargs = {\"prompt\" : prompt}\n",
    ")"
   ]
  },
  {
   "cell_type": "code",
   "execution_count": 58,
   "metadata": {},
   "outputs": [
    {
     "name": "stderr",
     "output_type": "stream",
     "text": [
      "/Users/baegmyeongsang/.pyenv/versions/3.10.14/envs/llm-app/lib/python3.10/site-packages/langchain_core/_api/deprecation.py:141: LangChainDeprecationWarning: The method `Chain.__call__` was deprecated in langchain 0.1.0 and will be removed in 1.0. Use invoke instead.\n",
      "  _alternative_import: str = alternative_import,\n"
     ]
    }
   ],
   "source": [
    "ai_message = qa_chain({\"query\" : query})"
   ]
  },
  {
   "cell_type": "code",
   "execution_count": 59,
   "metadata": {},
   "outputs": [
    {
     "data": {
      "text/plain": [
       "{'query': '연봉 5천만원인 직장인의 소득세는 얼마인가요?',\n",
       " 'result': '연봉 5천만원인 직장인의 소득세는 기본세율이 적용됩니다. 기본세율은 소득 구간에 따라 다르므로, 구체적인 소득세 금액을 계산하려면 추가적인 정보가 필요합니다. 정확한 소득세 금액을 계산하려면 국세청의 소득세 계산기를 이용하거나 세무사와 상담하는 것이 좋습니다.'}"
      ]
     },
     "execution_count": 59,
     "metadata": {},
     "output_type": "execute_result"
    }
   ],
   "source": [
    "ai_message"
   ]
  },
  {
   "cell_type": "code",
   "execution_count": null,
   "metadata": {},
   "outputs": [],
   "source": []
  }
 ],
 "metadata": {
  "kernelspec": {
   "display_name": "llm-app",
   "language": "python",
   "name": "python3"
  },
  "language_info": {
   "codemirror_mode": {
    "name": "ipython",
    "version": 3
   },
   "file_extension": ".py",
   "mimetype": "text/x-python",
   "name": "python",
   "nbconvert_exporter": "python",
   "pygments_lexer": "ipython3",
   "version": "3.10.14"
  }
 },
 "nbformat": 4,
 "nbformat_minor": 2
}
